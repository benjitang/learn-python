{
 "metadata": {
  "language_info": {
   "codemirror_mode": {
    "name": "ipython",
    "version": 3
   },
   "file_extension": ".py",
   "mimetype": "text/x-python",
   "name": "python",
   "nbconvert_exporter": "python",
   "pygments_lexer": "ipython3",
   "version": "3.8.3-final"
  },
  "orig_nbformat": 2,
  "kernelspec": {
   "name": "python_defaultSpec_1599163493959",
   "display_name": "Python 3.8.3 64-bit"
  }
 },
 "nbformat": 4,
 "nbformat_minor": 2,
 "cells": [
  {
   "cell_type": "markdown",
   "metadata": {},
   "source": [
    "# Install \n",
    "beautifulsoup4  \n",
    "lxml  \n",
    "html5lib  \n",
    "requests"
   ]
  },
  {
   "cell_type": "code",
   "execution_count": 1,
   "metadata": {},
   "outputs": [],
   "source": [
    "from bs4 import BeautifulSoup\n",
    "import requests"
   ]
  },
  {
   "cell_type": "markdown",
   "metadata": {},
   "source": [
    "# 1. Parse the local html file"
   ]
  },
  {
   "cell_type": "code",
   "execution_count": null,
   "metadata": {
    "tags": []
   },
   "outputs": [],
   "source": [
    "with open('simple.html') as htmlfile: #in the same directory\n",
    "    soup = BeautifulSoup(htmlfile,'lxml') #parse with BeautifulSoup(object, parser)"
   ]
  },
  {
   "cell_type": "code",
   "execution_count": null,
   "metadata": {},
   "outputs": [],
   "source": [
    "#print the whole html file\n",
    "print(soup.prettify())"
   ]
  },
  {
   "cell_type": "code",
   "execution_count": null,
   "metadata": {
    "tags": []
   },
   "outputs": [],
   "source": [
    "#match a tag and print\n",
    "match = soup.title\n",
    "print(match)\n",
    "match = soup.title.text\n",
    "print(match)"
   ]
  },
  {
   "cell_type": "markdown",
   "metadata": {},
   "source": [
    "## 1.1 find div tags and print"
   ]
  },
  {
   "cell_type": "code",
   "execution_count": null,
   "metadata": {
    "tags": []
   },
   "outputs": [],
   "source": [
    "#to find a div\n",
    "article = soup.find('div', class_='footer') #class_ important\n",
    "print(article)"
   ]
  },
  {
   "cell_type": "code",
   "execution_count": null,
   "metadata": {
    "tags": []
   },
   "outputs": [],
   "source": [
    "#for loop return a list of objects\n",
    "for article in soup.find_all('div', class_='article'):\n",
    "    print(article)"
   ]
  },
  {
   "cell_type": "code",
   "execution_count": null,
   "metadata": {
    "tags": []
   },
   "outputs": [],
   "source": [
    "#find one div and loop for all\n",
    "for article in soup.find_all('div', class_='article'): #return a list of articles\n",
    "    headline = article.h2.a.text\n",
    "    print(headline)\n",
    "\n",
    "    summary = article.p.text\n",
    "    print(summary)\n",
    "\n",
    "    print() #print a blank line"
   ]
  },
  {
   "cell_type": "markdown",
   "metadata": {},
   "source": [
    "# 2. A real website"
   ]
  },
  {
   "cell_type": "code",
   "execution_count": 2,
   "metadata": {
    "tags": [
     "outputPrepend"
    ]
   },
   "outputs": [
    {
     "output_type": "stream",
     "name": "stdout",
     "text": "s=\"entry-author\" itemprop=\"author\" itemscope=\"\" itemtype=\"https://schema.org/Person\">\n          <a class=\"entry-author-link\" href=\"https://coreyms.com/author/coreymschafer\" itemprop=\"url\" rel=\"author\">\n           <span class=\"entry-author-name\" itemprop=\"name\">\n            Corey Schafer\n           </span>\n          </a>\n         </span>\n         <span class=\"entry-comments-link\">\n          <a href=\"https://coreyms.com/development/python/visual-studio-code-mac-setting-up-a-python-development-environment-and-complete-overview#respond\">\n           <span class=\"dsq-postid\" data-dsqidentifier=\"1639 http://coreyms.com/?p=1639\">\n            Leave a Comment\n           </span>\n          </a>\n         </span>\n        </p>\n       </header>\n       <div class=\"entry-content\" itemprop=\"text\">\n        <p>\n         In this Python Programming Tutorial, we will be learning how to set up a Python development environment in VSCode on MacOS. VSCode is a very nice free editor for writing Python applications and many developers are now switching over to this editor. In this video, we will learn how to install VSCode, get the Python extension installed, how to change Python interpreters, create virtual environments, format/lint our code, how to use Git within VSCode, how to debug our programs, how unit testing works, and more. We have a lot to cover, so let’s go ahead and get started…\n        </p>\n        <p>\n         VSCode on Windows – https://youtu.be/-nh9rCzPJ20\n        </p>\n        <p>\n         Timestamps for topics in this tutorial:\n         <br/>\n         Installation – 1:11\n         <br/>\n         Python Extension – 6:21\n         <br/>\n         Switching Interpreters – 10:16\n         <br/>\n         Changing Color Themes – 13:08\n         <br/>\n         VSCode Settings – 17:12\n         <br/>\n         Set Default Python – 22:24\n         <br/>\n         Using Virtual Environments – 25:52\n         <br/>\n         IntelliSense – 30:28\n         <br/>\n         Code Formatting – 33:08\n         <br/>\n         Code Linting – 38:01\n         <br/>\n         Code Runner Extension – 40:45\n         <br/>\n         Git Integration – 49:05\n         <br/>\n         Debugging – 58:15\n         <br/>\n         Unit Testing – 1:02:38\n         <br/>\n         Zen Mode – 1:10:42\n        </p>\n        <figure class=\"wp-block-embed-youtube wp-block-embed is-type-video is-provider-youtube wp-embed-aspect-16-9 wp-has-aspect-ratio\">\n         <div class=\"wp-block-embed__wrapper\">\n          <span class=\"embed-youtube\" style=\"text-align:center; display: block;\">\n           <iframe allowfullscreen=\"true\" class=\"youtube-player\" height=\"360\" src=\"https://www.youtube.com/embed/06I63_p-2A4?version=3&amp;rel=1&amp;fs=1&amp;autohide=2&amp;showsearch=0&amp;showinfo=1&amp;iv_load_policy=1&amp;wmode=transparent\" style=\"border:0;\" width=\"640\">\n           </iframe>\n          </span>\n         </div>\n        </figure>\n       </div>\n       <footer class=\"entry-footer\">\n        <p class=\"entry-meta\">\n         <span class=\"entry-categories\">\n          Filed Under:\n          <a href=\"https://coreyms.com/category/development\" rel=\"category tag\">\n           Development\n          </a>\n          ,\n          <a href=\"https://coreyms.com/category/development/python\" rel=\"category tag\">\n           Python\n          </a>\n         </span>\n         <span class=\"entry-tags\">\n          Tagged With:\n          <a href=\"https://coreyms.com/tag/development-environment\" rel=\"tag\">\n           Development Environment\n          </a>\n          ,\n          <a href=\"https://coreyms.com/tag/visual-studio-code\" rel=\"tag\">\n           visual studio code\n          </a>\n          ,\n          <a href=\"https://coreyms.com/tag/visual-studios\" rel=\"tag\">\n           visual studios\n          </a>\n          ,\n          <a href=\"https://coreyms.com/tag/vs-code\" rel=\"tag\">\n           vs code\n          </a>\n          ,\n          <a href=\"https://coreyms.com/tag/vscode\" rel=\"tag\">\n           vscode\n          </a>\n         </span>\n        </p>\n       </footer>\n      </article>\n      <article class=\"post-1634 post type-post status-publish format-standard has-post-thumbnail category-development category-python tag-common-errors tag-common-mistakes tag-functions tag-mutable-default-arguments entry\" itemscope=\"\" itemtype=\"https://schema.org/CreativeWork\">\n       <header class=\"entry-header\">\n        <h2 class=\"entry-title\" itemprop=\"headline\">\n         <a class=\"entry-title-link\" href=\"https://coreyms.com/development/python/clarifying-the-issues-with-mutable-default-arguments\" rel=\"bookmark\">\n          Clarifying the Issues with Mutable Default Arguments\n         </a>\n        </h2>\n        <p class=\"entry-meta\">\n         <time class=\"entry-time\" datetime=\"2019-04-24T11:46:42-04:00\" itemprop=\"datePublished\">\n          April 24, 2019\n         </time>\n         by\n         <span class=\"entry-author\" itemprop=\"author\" itemscope=\"\" itemtype=\"https://schema.org/Person\">\n          <a class=\"entry-author-link\" href=\"https://coreyms.com/author/coreymschafer\" itemprop=\"url\" rel=\"author\">\n           <span class=\"entry-author-name\" itemprop=\"name\">\n            Corey Schafer\n           </span>\n          </a>\n         </span>\n         <span class=\"entry-comments-link\">\n          <a href=\"https://coreyms.com/development/python/clarifying-the-issues-with-mutable-default-arguments#respond\">\n           <span class=\"dsq-postid\" data-dsqidentifier=\"1634 http://coreyms.com/?p=1634\">\n            Leave a Comment\n           </span>\n          </a>\n         </span>\n        </p>\n       </header>\n       <div class=\"entry-content\" itemprop=\"text\">\n        <p>\n         In this Python Programming Tutorial, we will be clarifying the issues with mutable default arguments. We discussed this in my last video titled “5 Common Python Mistakes and How to Fix Them”, but I received many comments from people who were still confused. So we will be doing a deeper dive to explain exactly what is going on here. Let’s get started…\n        </p>\n        <figure class=\"wp-block-embed-youtube wp-block-embed is-type-video is-provider-youtube wp-embed-aspect-16-9 wp-has-aspect-ratio\">\n         <div class=\"wp-block-embed__wrapper\">\n          <span class=\"embed-youtube\" style=\"text-align:center; display: block;\">\n           <iframe allowfullscreen=\"true\" class=\"youtube-player\" height=\"360\" src=\"https://www.youtube.com/embed/_JGmemuINww?version=3&amp;rel=1&amp;fs=1&amp;autohide=2&amp;showsearch=0&amp;showinfo=1&amp;iv_load_policy=1&amp;wmode=transparent\" style=\"border:0;\" width=\"640\">\n           </iframe>\n          </span>\n         </div>\n        </figure>\n       </div>\n       <footer class=\"entry-footer\">\n        <p class=\"entry-meta\">\n         <span class=\"entry-categories\">\n          Filed Under:\n          <a href=\"https://coreyms.com/category/development\" rel=\"category tag\">\n           Development\n          </a>\n          ,\n          <a href=\"https://coreyms.com/category/development/python\" rel=\"category tag\">\n           Python\n          </a>\n         </span>\n         <span class=\"entry-tags\">\n          Tagged With:\n          <a href=\"https://coreyms.com/tag/common-errors\" rel=\"tag\">\n           common errors\n          </a>\n          ,\n          <a href=\"https://coreyms.com/tag/common-mistakes\" rel=\"tag\">\n           common mistakes\n          </a>\n          ,\n          <a href=\"https://coreyms.com/tag/functions\" rel=\"tag\">\n           functions\n          </a>\n          ,\n          <a href=\"https://coreyms.com/tag/mutable-default-arguments\" rel=\"tag\">\n           mutable default arguments\n          </a>\n         </span>\n        </p>\n       </footer>\n      </article>\n      <div class=\"archive-pagination pagination\">\n       <ul>\n        <li class=\"active\">\n         <a aria-current=\"page\" aria-label=\"Current page\" href=\"https://coreyms.com/\">\n          1\n         </a>\n        </li>\n        <li>\n         <a href=\"https://coreyms.com/page/2\">\n          2\n         </a>\n        </li>\n        <li>\n         <a href=\"https://coreyms.com/page/3\">\n          3\n         </a>\n        </li>\n        <li class=\"pagination-omission\">\n         …\n        </li>\n        <li>\n         <a href=\"https://coreyms.com/page/17\">\n          17\n         </a>\n        </li>\n        <li class=\"pagination-next\">\n         <a href=\"https://coreyms.com/page/2\">\n          Next Page »\n         </a>\n        </li>\n       </ul>\n      </div>\n     </main>\n     <aside aria-label=\"Primary Sidebar\" class=\"sidebar sidebar-primary widget-area\" itemscope=\"\" itemtype=\"https://schema.org/WPSideBar\" role=\"complementary\">\n      <section class=\"widget widget_text\" id=\"text-5\">\n       <div class=\"widget-wrap\">\n        <h4 class=\"widget-title widgettitle\">\n         Main Contributor\n        </h4>\n        <div class=\"textwidget\">\n         <ul>\n          <li>\n           <b>\n            Andre Nevares\n           </b>\n          </li>\n         </ul>\n         <h4 style=\"margin-top: 25px; font-size: 17px;\">\n          Top Contributors (17)\n         </h4>\n         <ul>\n          <li>\n           Andre Nevares\n          </li>\n          <li>\n           Cyril Hediger\n          </li>\n          <li>\n           Abhilash Rajan\n          </li>\n          <li>\n           Hien Nguyen\n          </li>\n          <li>\n           Alan Hawse – iotexpert.com\n          </li>\n          <li>\n           Just a Guy\n          </li>\n          <li>\n           Alex Canady\n          </li>\n          <li>\n           Sergey Trubin\n          </li>\n          <li>\n           Justin Presley\n          </li>\n          <li>\n           Sirake\n          </li>\n          <li>\n           chris\n          </li>\n          <li>\n           Jerome Massey\n          </li>\n          <li>\n           Robert Butler\n          </li>\n          <li>\n           Jonathan Llovet\n          </li>\n          <li>\n           David Myers\n          </li>\n          <li>\n           Karthik\n          </li>\n          <li>\n           Michael Zoitas\n          </li>\n         </ul>\n         <hr style=\"border: 0; border-bottom: 1px dotted #ddd;\"/>\n         <p>\n          <b>\n           Thank You!\n          </b>\n          If you would like to have your name listed as a contributor and support the website, you can do so through\n          <a href=\"https://www.patreon.com/coreyms\" rel=\"noopener noreferrer\" target=\"_blank\">\n           my Patreon Page\n          </a>\n          . I am extremely grateful for any support.\n         </p>\n        </div>\n       </div>\n      </section>\n      <section class=\"widget widget_search\" id=\"search-3\">\n       <div class=\"widget-wrap\">\n        <h4 class=\"widget-title widgettitle\">\n         Search CoreyMS.com\n        </h4>\n        <form action=\"https://coreyms.com/\" class=\"search-form\" itemprop=\"potentialAction\" itemscope=\"\" itemtype=\"https://schema.org/SearchAction\" method=\"get\" role=\"search\">\n         <input class=\"search-form-input\" id=\"searchform-5f516029481e73.10672375\" itemprop=\"query-input\" name=\"s\" placeholder=\"Search this website\" type=\"search\"/>\n         <input class=\"search-form-submit\" type=\"submit\" value=\"Search\"/>\n         <meta content=\"https://coreyms.com/?s={s}\" itemprop=\"target\"/>\n        </form>\n       </div>\n      </section>\n      <section class=\"widget enews-widget\" id=\"enews-ext-4\">\n       <div class=\"widget-wrap\">\n        <div class=\"enews\">\n         <h4 class=\"widget-title widgettitle\">\n          Subscribe to Future Posts\n         </h4>\n         <form action=\"//coreyms.us9.list-manage.com/subscribe/post?u=f4df8a0f0be5d3754ed52b1ef&amp;id=5b06358625\" id=\"subscribeenews-ext-4\" method=\"post\" name=\"enews-ext-4\" onsubmit=\"if ( subbox1.value == 'First Name') { subbox1.value = ''; } if ( subbox2.value == 'Last Name') { subbox2.value = ''; }\" target=\"_blank\">\n          <label class=\"screenread\" for=\"subbox1\">\n           First Name\n          </label>\n          <input class=\"enews-subbox\" id=\"subbox1\" name=\"FNAME\" placeholder=\"First Name\" type=\"text\" value=\"\"/>\n          <label class=\"screenread\" for=\"subbox\">\n           E-Mail Address\n          </label>\n          <input id=\"subbox\" name=\"EMAIL\" placeholder=\"E-Mail Address\" required=\"required\" type=\"email\" value=\"\"/>\n          <input id=\"subbutton\" type=\"submit\" value=\"Subscribe\"/>\n         </form>\n        </div>\n       </div>\n      </section>\n      <section class=\"widget widget_text\" id=\"text-2\">\n       <div class=\"widget-wrap\">\n        <h4 class=\"widget-title widgettitle\">\n         Recommended Books\n        </h4>\n        <div class=\"textwidget\">\n         <a href=\"https://www.amazon.com/gp/product/1449355730/ref=as_li_tl?ie=UTF8&amp;camp=1789&amp;creative=9325&amp;creativeASIN=1449355730&amp;linkCode=as2&amp;tag=coreyms-20&amp;linkId=2f9ceaf471d7d35f2c2657051780fc6f\" rel=\"noopener noreferrer\" target=\"_blank\">\n          <img border=\"0\" class=\"widget_book\" src=\"//ws-na.amazon-adsystem.com/widgets/q?_encoding=UTF8&amp;MarketPlace=US&amp;ASIN=1449355730&amp;ServiceVersion=20070822&amp;ID=AsinImage&amp;WS=1&amp;Format=_SL250_&amp;tag=coreyms-20\"/>\n         </a>\n         <img alt=\"\" border=\"0\" height=\"1\" src=\"//ir-na.amazon-adsystem.com/e/ir?t=coreyms-20&amp;l=am2&amp;o=1&amp;a=1449355730\" style=\"border:none !important; margin:0px !important;\" width=\"1\"/>\n         <a href=\"https://www.amazon.com/gp/product/1491946008/ref=as_li_tl?ie=UTF8&amp;camp=1789&amp;creative=9325&amp;creativeASIN=1491946008&amp;linkCode=as2&amp;tag=coreyms-20&amp;linkId=39335cdc340fb7ce5bd51d59c57e7e54\" rel=\"noopener noreferrer\" target=\"_blank\">\n          <img border=\"0\" class=\"widget_book\" src=\"//ws-na.amazon-adsystem.com/widgets/q?_encoding=UTF8&amp;MarketPlace=US&amp;ASIN=1491946008&amp;ServiceVersion=20070822&amp;ID=AsinImage&amp;WS=1&amp;Format=_SL250_&amp;tag=coreyms-20\"/>\n         </a>\n         <img alt=\"\" border=\"0\" height=\"1\" src=\"//ir-na.amazon-adsystem.com/e/ir?t=coreyms-20&amp;l=am2&amp;o=1&amp;a=1491946008\" style=\"border:none !important; margin:0px !important;\" width=\"1\"/>\n         <a href=\"https://www.amazon.com/gp/product/1593276036/ref=as_li_tl?ie=UTF8&amp;camp=1789&amp;creative=9325&amp;creativeASIN=1593276036&amp;linkCode=as2&amp;tag=coreyms-20&amp;linkId=75ff844a147bc8cb5fb325608b286158\" rel=\"noopener noreferrer\" target=\"_blank\">\n          <img border=\"0\" class=\"widget_book\" src=\"//ws-na.amazon-adsystem.com/widgets/q?_encoding=UTF8&amp;MarketPlace=US&amp;ASIN=1593276036&amp;ServiceVersion=20070822&amp;ID=AsinImage&amp;WS=1&amp;Format=_SL250_&amp;tag=coreyms-20\"/>\n         </a>\n         <img alt=\"\" border=\"0\" height=\"1\" src=\"//ir-na.amazon-adsystem.com/e/ir?t=coreyms-20&amp;l=am2&amp;o=1&amp;a=1593276036\" style=\"border:none !important; margin:0px !important;\" width=\"1\"/>\n         <a href=\"https://www.amazon.com/gp/product/0984782850/ref=as_li_tl?ie=UTF8&amp;camp=1789&amp;creative=9325&amp;creativeASIN=0984782850&amp;linkCode=as2&amp;tag=coreyms-20&amp;linkId=e2f7c21906426f17958a1d04718e7d02\" rel=\"noopener noreferrer\" target=\"_blank\">\n          <img border=\"0\" class=\"widget_book\" src=\"//ws-na.amazon-adsystem.com/widgets/q?_encoding=UTF8&amp;MarketPlace=US&amp;ASIN=0984782850&amp;ServiceVersion=20070822&amp;ID=AsinImage&amp;WS=1&amp;Format=_SL250_&amp;tag=coreyms-20\"/>\n         </a>\n         <img alt=\"\" border=\"0\" height=\"1\" src=\"//ir-na.amazon-adsystem.com/e/ir?t=coreyms-20&amp;l=am2&amp;o=1&amp;a=0984782850\" style=\"border:none !important; margin:0px !important;\" width=\"1\"/>\n         <a href=\"https://www.amazon.com/gp/product/020161622X/ref=as_li_tl?ie=UTF8&amp;camp=1789&amp;creative=9325&amp;creativeASIN=020161622X&amp;linkCode=as2&amp;tag=coreyms-20&amp;linkId=a2699f6b6cb5814da54f71140c52f2ca\" rel=\"noopener noreferrer\" target=\"_blank\">\n          <img border=\"0\" class=\"widget_book\" src=\"//ws-na.amazon-adsystem.com/widgets/q?_encoding=UTF8&amp;MarketPlace=US&amp;ASIN=020161622X&amp;ServiceVersion=20070822&amp;ID=AsinImage&amp;WS=1&amp;Format=_SL250_&amp;tag=coreyms-20\"/>\n         </a>\n         <img alt=\"\" border=\"0\" height=\"1\" src=\"//ir-na.amazon-adsystem.com/e/ir?t=coreyms-20&amp;l=am2&amp;o=1&amp;a=020161622X\" style=\"border:none !important; margin:0px !important;\" width=\"1\"/>\n         <a href=\"https://www.amazon.com/gp/product/0201835959/ref=as_li_tl?ie=UTF8&amp;camp=1789&amp;creative=9325&amp;creativeASIN=0201835959&amp;linkCode=as2&amp;tag=coreyms-20&amp;linkId=c3de80ab4a4761f7634751cf323af13f\" rel=\"noopener noreferrer\" target=\"_blank\">\n          <img border=\"0\" class=\"widget_book\" src=\"//ws-na.amazon-adsystem.com/widgets/q?_encoding=UTF8&amp;MarketPlace=US&amp;ASIN=0201835959&amp;ServiceVersion=20070822&amp;ID=AsinImage&amp;WS=1&amp;Format=_SL250_&amp;tag=coreyms-20\"/>\n         </a>\n         <img alt=\"\" border=\"0\" height=\"1\" src=\"//ir-na.amazon-adsystem.com/e/ir?t=coreyms-20&amp;l=am2&amp;o=1&amp;a=0201835959\" style=\"border:none !important; margin:0px !important;\" width=\"1\"/>\n        </div>\n       </div>\n      </section>\n      <section class=\"widget widget_text\" id=\"text-3\">\n       <div class=\"widget-wrap\">\n        <h4 class=\"widget-title widgettitle\">\n         Podcasts I Listen To\n        </h4>\n        <div class=\"textwidget\">\n         <u>\n          Tech Related\n         </u>\n         :\n         <br/>\n         <a href=\"http://talkpython.fm/\">\n          Talk Python To Me\n         </a>\n         <br/>\n         <a href=\"http://shoptalkshow.com/\">\n          Shoptalk Show\n         </a>\n         <br/>\n         <a href=\"http://www.se-radio.net/\">\n          Software Engineering Radio\n         </a>\n         <br/>\n         <a href=\"http://hanselminutes.com/\">\n          HanselMinutes\n         </a>\n         <br/>\n         <a href=\"https://blog.codepen.io/radio/\">\n          CodePen Radio\n         </a>\n         <br/>\n         <br/>\n         <u>\n          Non-Tech Related\n         </u>\n         :\n         <br/>\n         <a href=\"http://www.dancarlin.com/hardcore-history-series/\">\n          Dan Carlin's Hardcore History\n         </a>\n         <br/>\n         <a href=\"http://www.billburr.com/podcast\">\n          Bill Burr's Monday Morning Podcast\n         </a>\n         <br/>\n         <a href=\"http://www.samharris.org/podcast\">\n          Waking Up with Sam Harris\n         </a>\n         <br/>\n         <a href=\"http://www.startalkradio.net/shows-archive/\">\n          StarTalk Radio\n         </a>\n         <br/>\n         <a href=\"http://carasantamaria.com/podcast/\">\n          Talk Nerdy with Cara Santa Maria\n         </a>\n        </div>\n       </div>\n      </section>\n     </aside>\n    </div>\n   </div>\n   <footer class=\"site-footer\" itemscope=\"\" itemtype=\"https://schema.org/WPFooter\">\n    <div class=\"wrap\">\n     <p>\n      © 2020 ·\n      <a href=\"http://coreyms.com\">\n       CoreyMS\n      </a>\n      · Corey Schafer\n     </p>\n    </div>\n   </footer>\n  </div>\n  <link href=\"//cdnjs.cloudflare.com/ajax/libs/highlight.js/8.4/styles/zenburn.min.css\" rel=\"stylesheet\"/>\n  <script src=\"//cdnjs.cloudflare.com/ajax/libs/highlight.js/8.4/highlight.min.js\">\n  </script>\n  <script>\n   hljs.initHighlightingOnLoad();\n  </script>\n  <script type=\"text/javascript\">\n   /* <![CDATA[ */\nvar wpcf7 = {\"apiSettings\":{\"root\":\"https:\\/\\/coreyms.com\\/wp-json\\/contact-form-7\\/v1\",\"namespace\":\"contact-form-7\\/v1\"},\"cached\":\"1\"};\n/* ]]> */\n  </script>\n  <script src=\"https://coreyms.com/wp-content/cache/minify/0fef6.js\">\n  </script>\n  <script type=\"text/javascript\">\n   /* <![CDATA[ */\nvar countVars = {\"disqusShortname\":\"coreyms\"};\n/* ]]> */\n  </script>\n  <script src=\"https://coreyms.com/wp-content/cache/minify/9b739.js\">\n  </script>\n  <script async=\"async\" defer=\"defer\" src=\"https://stats.wp.com/e-202036.js\" type=\"text/javascript\">\n  </script>\n  <script type=\"text/javascript\">\n   _stq = window._stq || [];\n\t_stq.push([ 'view', {v:'ext',j:'1:8.9',blog:'70676981',post:'0',tz:'-4',srv:'coreyms.com'} ]);\n\t_stq.push([ 'clickTrackerInit', '70676981', '0' ]);\n  </script>\n </body>\n</html>\n<!--\nPerformance optimized by W3 Total Cache. Learn more: https://www.w3-edge.com/products/\n\nPage Caching using disk: enhanced (SSL caching disabled) \nMinified using disk\n\nServed from: coreyms.com @ 2020-09-03 17:29:13 by W3 Total Cache\n-->\n\n"
    }
   ],
   "source": [
    "#request and make the soup\n",
    "source = requests.get('http://coreyms.com').text\n",
    "soup = BeautifulSoup(source, 'lxml')\n",
    "print(soup.prettify())"
   ]
  },
  {
   "cell_type": "markdown",
   "metadata": {},
   "source": [
    "## 2.1 start from one article"
   ]
  },
  {
   "cell_type": "code",
   "execution_count": null,
   "metadata": {
    "tags": []
   },
   "outputs": [],
   "source": [
    "#get first article\n",
    "article = soup.find('article')\n",
    "print(article.prettify())\n"
   ]
  },
  {
   "cell_type": "code",
   "execution_count": null,
   "metadata": {
    "tags": []
   },
   "outputs": [],
   "source": [
    "#get headline from the first article\n",
    "headline = article.h2.a.text\n",
    "print(headline)"
   ]
  },
  {
   "cell_type": "code",
   "execution_count": null,
   "metadata": {
    "tags": []
   },
   "outputs": [],
   "source": [
    "#get summary from the first article\n",
    "summary = article.find(\"div\", class_=\"entry-content\").p.text\n",
    "print(summary)"
   ]
  },
  {
   "cell_type": "code",
   "execution_count": null,
   "metadata": {
    "tags": []
   },
   "outputs": [],
   "source": [
    "#get embedded video source\n",
    "vid_src = article.find(\"iframe\", class_=\"youtube-player\")[\"src\"]\n",
    "print(vid_src)\n",
    "print()\n",
    "#get video id\n",
    "vid_id = vid_src.split(\"/\")[4].split(\"?\")[0]\n",
    "print(vid_id)\n",
    "print()\n",
    "#create youtube link\n",
    "yt_link = f\"http://youtube.com/watch?v={vid_id}\"\n",
    "print(yt_link)"
   ]
  },
  {
   "cell_type": "markdown",
   "metadata": {},
   "source": [
    "## 2.2 loop for all articles but have bugs of missing information"
   ]
  },
  {
   "cell_type": "code",
   "execution_count": null,
   "metadata": {
    "tags": []
   },
   "outputs": [],
   "source": [
    "#get imformation from all the article e.g. headline&Videolinks\n",
    "for article in soup.find_all(\"article\"):\n",
    "    headline = article.h2.a.text\n",
    "    print(headline)\n",
    "\n",
    "    vid_src = article.find(\"iframe\", class_=\"youtube-player\")[\"src\"]\n",
    "    vid_id = vid_src.split(\"/\")[4].split(\"?\")[0]\n",
    "    yt_link = f\"http://youtube.com/watch?v={vid_id}\"\n",
    "    print(yt_link)\n",
    "\n",
    "    print()"
   ]
  },
  {
   "cell_type": "markdown",
   "metadata": {},
   "source": [
    "## 2.3 Dealing with TypeError: try except block"
   ]
  },
  {
   "cell_type": "code",
   "execution_count": 4,
   "metadata": {
    "tags": []
   },
   "outputs": [
    {
     "output_type": "stream",
     "name": "stdout",
     "text": "Python Tutorial: Zip Files – Creating and Extracting Zip Archives\nhttp://youtube.com/watch?v=z0gguhEmWiY\n\nPython Data Science Tutorial: Analyzing the 2019 Stack Overflow Developer Survey\nhttp://youtube.com/watch?v=_P7X8tMplsw\n\nPython Multiprocessing Tutorial: Run Code in Parallel Using the Multiprocessing Module\nhttp://youtube.com/watch?v=fKl2JW_qrso\n\nPython Threading Tutorial: Run Code Concurrently Using the Threading Module\nhttp://youtube.com/watch?v=IEEhzQoKtQU\n\nErrorhere\nErrorhere\n\nPython Quick Tip: The Difference Between “==” and “is” (Equality vs Identity)\nhttp://youtube.com/watch?v=mO_dS3rXDIs\n\nPython Tutorial: Calling External Commands Using the Subprocess Module\nhttp://youtube.com/watch?v=2Fp1N6dof0Y\n\nVisual Studio Code (Windows) – Setting up a Python Development Environment and Complete Overview\nhttp://youtube.com/watch?v=-nh9rCzPJ20\n\nVisual Studio Code (Mac) – Setting up a Python Development Environment and Complete Overview\nhttp://youtube.com/watch?v=06I63_p-2A4\n\nClarifying the Issues with Mutable Default Arguments\nhttp://youtube.com/watch?v=_JGmemuINww\n\n"
    }
   ],
   "source": [
    "for article in soup.find_all(\"article\"):\n",
    "\n",
    "    try:\n",
    "        headline = article.h2.a.text\n",
    "\n",
    "        vid_src = article.find(\"iframe\", class_=\"youtube-player\")[\"src\"]\n",
    "        vid_id = vid_src.split(\"/\")[4].split(\"?\")[0]\n",
    "        yt_link = f\"http://youtube.com/watch?v={vid_id}\"\n",
    "\n",
    "    except Exception as e:\n",
    "        headline = \"Errorhere\"\n",
    "        yt_link = \"Errorhere\"\n",
    "\n",
    "    print(headline)\n",
    "    print(yt_link)\n",
    "    print()"
   ]
  },
  {
   "cell_type": "markdown",
   "metadata": {},
   "source": [
    "# 3. Web Scraping and write in CSV"
   ]
  },
  {
   "cell_type": "code",
   "execution_count": 5,
   "metadata": {
    "tags": []
   },
   "outputs": [
    {
     "output_type": "stream",
     "name": "stdout",
     "text": "Python Tutorial: Zip Files – Creating and Extracting Zip Archives\nhttp://youtube.com/watch?v=z0gguhEmWiY\n\nPython Data Science Tutorial: Analyzing the 2019 Stack Overflow Developer Survey\nhttp://youtube.com/watch?v=_P7X8tMplsw\n\nPython Multiprocessing Tutorial: Run Code in Parallel Using the Multiprocessing Module\nhttp://youtube.com/watch?v=fKl2JW_qrso\n\nPython Threading Tutorial: Run Code Concurrently Using the Threading Module\nhttp://youtube.com/watch?v=IEEhzQoKtQU\n\nErrorhere\nErrorhere\n\nPython Quick Tip: The Difference Between “==” and “is” (Equality vs Identity)\nhttp://youtube.com/watch?v=mO_dS3rXDIs\n\nPython Tutorial: Calling External Commands Using the Subprocess Module\nhttp://youtube.com/watch?v=2Fp1N6dof0Y\n\nVisual Studio Code (Windows) – Setting up a Python Development Environment and Complete Overview\nhttp://youtube.com/watch?v=-nh9rCzPJ20\n\nVisual Studio Code (Mac) – Setting up a Python Development Environment and Complete Overview\nhttp://youtube.com/watch?v=06I63_p-2A4\n\nClarifying the Issues with Mutable Default Arguments\nhttp://youtube.com/watch?v=_JGmemuINww\n\n"
    }
   ],
   "source": [
    "import csv\n",
    "\n",
    "#open file\n",
    "csv_file = open(\"basic_csv\",'w')\n",
    "#use csv writer\n",
    "csv_writer = csv.writer(csv_file)\n",
    "#write the first row\n",
    "csv_writer.writerow(['headline','videolink'])\n",
    "\n",
    "for article in soup.find_all(\"article\"):\n",
    "\n",
    "    try:\n",
    "        headline = article.h2.a.text\n",
    "\n",
    "        vid_src = article.find(\"iframe\", class_=\"youtube-player\")[\"src\"]\n",
    "        vid_id = vid_src.split(\"/\")[4].split(\"?\")[0]\n",
    "        yt_link = f\"http://youtube.com/watch?v={vid_id}\"\n",
    "\n",
    "    except Exception as e:\n",
    "        headline = \"Errorhere\"\n",
    "        yt_link = \"Errorhere\"\n",
    "\n",
    "    print(headline)\n",
    "    print(yt_link)\n",
    "    print()\n",
    "\n",
    "    csv_writer.writerow([headline, yt_link])\n",
    "\n",
    "csv_file.close()"
   ]
  },
  {
   "cell_type": "code",
   "execution_count": null,
   "metadata": {},
   "outputs": [],
   "source": []
  }
 ]
}