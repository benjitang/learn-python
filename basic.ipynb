{
 "metadata": {
  "language_info": {
   "codemirror_mode": {
    "name": "ipython",
    "version": 3
   },
   "file_extension": ".py",
   "mimetype": "text/x-python",
   "name": "python",
   "nbconvert_exporter": "python",
   "pygments_lexer": "ipython3",
   "version": "3.8.3-final"
  },
  "orig_nbformat": 2,
  "kernelspec": {
   "name": "python_defaultSpec_1600764969742",
   "display_name": "Python 3.8.3 64-bit"
  }
 },
 "nbformat": 4,
 "nbformat_minor": 2,
 "cells": [
  {
   "cell_type": "markdown",
   "metadata": {},
   "source": [
    "# Datatype"
   ]
  },
  {
   "cell_type": "markdown",
   "metadata": {},
   "source": [
    "## 1. Variable\n",
    "Convention: all lowercase, separate with underscore"
   ]
  },
  {
   "cell_type": "markdown",
   "metadata": {
    "tags": []
   },
   "source": [
    "## 2. Object & Class"
   ]
  },
  {
   "cell_type": "code",
   "execution_count": null,
   "metadata": {
    "tags": []
   },
   "outputs": [],
   "source": [
    "num = 3\n",
    "#to see the datatype of object\n",
    "print(type(num))"
   ]
  },
  {
   "cell_type": "code",
   "execution_count": null,
   "metadata": {
    "tags": []
   },
   "outputs": [],
   "source": [
    "string = \"Test\"\n",
    "#directory of attributes and methods of object\n",
    "print(dir(string))"
   ]
  },
  {
   "cell_type": "code",
   "execution_count": null,
   "metadata": {
    "tags": []
   },
   "outputs": [],
   "source": [
    "#imfo about the attributes? methods of class\n",
    "print(help(str))"
   ]
  },
  {
   "cell_type": "markdown",
   "metadata": {},
   "source": [
    "## 3. String"
   ]
  },
  {
   "cell_type": "code",
   "execution_count": null,
   "metadata": {
    "tags": []
   },
   "outputs": [],
   "source": [
    "#Single quotes for symbol-like short String\n",
    "symbol = 'k-value'\n",
    "#Double quotes for Interpolation & Natural languages\n",
    "sentence = \"This is a sentence\"\n",
    "#Three quotes for multipleline strings\n",
    "multis = \"\"\"Multiple\n",
    "line\n",
    "strings\"\"\"\n",
    "#length function of strings\n",
    "print(len(sentence))\n"
   ]
  },
  {
   "cell_type": "markdown",
   "metadata": {},
   "source": [
    "### 3.1 Slicing"
   ]
  },
  {
   "cell_type": "code",
   "execution_count": null,
   "metadata": {
    "tags": []
   },
   "outputs": [],
   "source": [
    "# index to character\n",
    "print(sentence[2])\n",
    "# including index : excluding index\n",
    "print(sentence[2:4])\n",
    "print(sentence[:4])\n",
    "print(sentence[2:])\n",
    "print(sentence[2:18])"
   ]
  },
  {
   "cell_type": "markdown",
   "metadata": {},
   "source": [
    "### 3.2 Methods (Methods are functions belongs to objects)"
   ]
  },
  {
   "cell_type": "code",
   "execution_count": null,
   "metadata": {
    "tags": []
   },
   "outputs": [],
   "source": [
    "print(sentence)\n",
    "\n",
    "#lower/upper case\n",
    "print(sentence.lower())\n",
    "print(sentence.upper())\n",
    "\n",
    "#count\n",
    "print(sentence.count('s'))\n",
    "\n",
    "#find the index\n",
    "print(sentence.find('is'))\n",
    "\n",
    "#replace\n",
    "#! a return method\n",
    "sentence.replace('a','the')\n",
    "print(sentence)\n",
    "sentence = sentence.replace('a','the')\n",
    "print(sentence)"
   ]
  },
  {
   "cell_type": "code",
   "execution_count": null,
   "metadata": {
    "tags": []
   },
   "outputs": [],
   "source": [
    "greeting = 'Hello'\n",
    "name = 'Benny'\n",
    "\n",
    "#concatenate\n",
    "print(greeting + ' ' + name + '. Welcome!')\n",
    "\n",
    "#formatted string\n",
    "print(\"{} {}. Welcome!\".format(greeting, name.upper()))\n",
    "\n",
    "#f-string\n",
    "print(f\"{greeting} {name.upper()}. Welcome!\")"
   ]
  },
  {
   "cell_type": "markdown",
   "metadata": {},
   "source": [
    "## 4. Integers & Floats"
   ]
  },
  {
   "cell_type": "markdown",
   "metadata": {},
   "source": [
    "### 4.1 Arithmetic Operators"
   ]
  },
  {
   "cell_type": "code",
   "execution_count": null,
   "metadata": {
    "tags": []
   },
   "outputs": [],
   "source": [
    "# Arithmetic Operators:\n",
    "# Addition:       \n",
    "print(3 + 2)\n",
    "# Subtraction:    \n",
    "print(3 - 2)\n",
    "# Multiplication: \n",
    "print(3 * 2)\n",
    "# Division:       \n",
    "print(3 / 2)\n",
    "# Floor Division: \n",
    "print(3 // 2)\n",
    "# Exponent:       \n",
    "print(3 ** 2)\n",
    "# Modulus:        \n",
    "print(3 % 2)"
   ]
  },
  {
   "cell_type": "code",
   "execution_count": null,
   "metadata": {
    "tags": []
   },
   "outputs": [],
   "source": [
    "num = 3\n",
    "num **= 2\n",
    "print(num)"
   ]
  },
  {
   "cell_type": "code",
   "execution_count": null,
   "metadata": {},
   "outputs": [],
   "source": [
    "# Comparisons:\n",
    "# Equal:            3 == 2\n",
    "# Not Equal:        3 != 2\n",
    "# Greater Than:     3 > 2\n",
    "# Less Than:        3 < 2\n",
    "# Greater or Equal: 3 >= 2\n",
    "# Less or Equal:    3 <= 2"
   ]
  },
  {
   "cell_type": "code",
   "execution_count": null,
   "metadata": {
    "tags": []
   },
   "outputs": [],
   "source": [
    "#functions\n",
    "print(abs(-3))\n",
    "print(round(3.3749, 2))"
   ]
  },
  {
   "cell_type": "code",
   "execution_count": null,
   "metadata": {
    "tags": []
   },
   "outputs": [],
   "source": [
    "num1 = '100'\n",
    "num2 = '200'\n",
    "#Casting from string to integer\n",
    "num1 = int(num1)\n",
    "num2 = int(num2)\n",
    "print(num1 + num2)"
   ]
  },
  {
   "cell_type": "markdown",
   "metadata": {},
   "source": [
    "## 5. List, Tuple and Sets"
   ]
  },
  {
   "cell_type": "markdown",
   "metadata": {},
   "source": [
    "### 5.1 List edit"
   ]
  },
  {
   "cell_type": "code",
   "execution_count": 12,
   "metadata": {
    "tags": []
   },
   "outputs": [
    {
     "output_type": "stream",
     "name": "stdout",
     "text": "[3, 4, 5, 2, 1, 9]\n[9, 3, 4, 5, 2, 1, 9]\n[9, 3, 4, 5, 2, 1, 9, [8, 8, 8]]\n[9, 3, 4, 5, 2, 1, 9, [8, 8, 8], 8, 8, 8]\n[9, 3, 4, 5, 2, 9, [8, 8, 8], 8, 8, 8]\n[9, 3, 4, 5, 2, 9, [8, 8, 8], 8, 8]\n8\n"
    }
   ],
   "source": [
    "li = [3,4,5,2,1]\n",
    "li2 = [8,8,8]\n",
    "\n",
    "#add\n",
    "li.append(9)\n",
    "print(li)\n",
    "\n",
    "li.insert(0,9)\n",
    "print(li)\n",
    "\n",
    "li.append(li2)\n",
    "print(li)\n",
    "\n",
    "li.extend(li2)\n",
    "print(li)\n",
    "\n",
    "#remove\n",
    "li.remove(1)\n",
    "print(li)\n",
    "\n",
    "popwhat = li.pop() #the return value is given to popwhat\n",
    "print(li)\n",
    "print(popwhat)"
   ]
  },
  {
   "cell_type": "markdown",
   "metadata": {},
   "source": [
    "### 5.2 List Sort"
   ]
  },
  {
   "cell_type": "code",
   "execution_count": 21,
   "metadata": {
    "tags": []
   },
   "outputs": [
    {
     "output_type": "stream",
     "name": "stdout",
     "text": "[6, 5, 4, 9, 3, 2, 1]\n[1, 2, 3, 4, 5, 6, 9]\n[9, 6, 5, 4, 3, 2, 1]\n[1, 2, 3, 4, 5, 6, 9]\n30\n2\n"
    }
   ],
   "source": [
    "li = [1,2,3,9,4,5,6]\n",
    "\n",
    "#alter the original list\n",
    "li.reverse()\n",
    "print(li)\n",
    "\n",
    "li.sort()\n",
    "print(li)\n",
    "\n",
    "li.sort(reverse=True)\n",
    "print(li)\n",
    "\n",
    "#sorted a copy\n",
    "sortedli = sorted(li) #return value\n",
    "print(sortedli)\n",
    "\n",
    "#min, max, sum\n",
    "print(sum(li))"
   ]
  },
  {
   "cell_type": "markdown",
   "metadata": {},
   "source": [
    "### 5.3 List Search"
   ]
  },
  {
   "cell_type": "code",
   "execution_count": 9,
   "metadata": {
    "tags": []
   },
   "outputs": [
    {
     "output_type": "stream",
     "name": "stdout",
     "text": "2\nFalse\n(5, 1)\n(6, 2)\n(7, 3)\n(8, 9)\n(9, 4)\n(10, 5)\n(11, 6)\n0 1\n1 2\n2 3\n3 9\n4 4\n5 5\n6 6\n"
    }
   ],
   "source": [
    "#index\n",
    "li = [1,2,3,9,4,5,6]\n",
    "print(li.index(3))\n",
    "\n",
    "#in\n",
    "print(0 in li)\n",
    "\n",
    "#return tupel of index&value\n",
    "for ele in enumerate(li, start=5):\n",
    "    print(ele)\n",
    "\n",
    "#capture the tupel\n",
    "for index,value in enumerate(li):\n",
    "    print(index,value)"
   ]
  },
  {
   "cell_type": "markdown",
   "metadata": {},
   "source": [
    "### 5.4 List to String"
   ]
  },
  {
   "cell_type": "code",
   "execution_count": 14,
   "metadata": {
    "tags": []
   },
   "outputs": [
    {
     "output_type": "stream",
     "name": "stdout",
     "text": "hey - cool - benni\n['hey', 'cool', 'benni']\n"
    }
   ],
   "source": [
    "#List into a csv/hyphen-linked by using method in string\n",
    "li = ['hey', 'cool', 'benni']\n",
    "\n",
    "string = ' - '.join(li)\n",
    "print(string)\n",
    "\n",
    "#split/reverse\n",
    "new_string = string.split(' - ')\n",
    "print(new_string)"
   ]
  },
  {
   "cell_type": "markdown",
   "metadata": {},
   "source": [
    "### 5.5 Tupel vs. List"
   ]
  },
  {
   "cell_type": "code",
   "execution_count": 15,
   "metadata": {
    "tags": []
   },
   "outputs": [
    {
     "output_type": "stream",
     "name": "stdout",
     "text": "[5, 2, 3, 9, 4, 5, 6]\n[5, 2, 3, 9, 4, 5, 6]\n"
    }
   ],
   "source": [
    "#mutable\n",
    "li = [1,2,3,9,4,5,6]\n",
    "li2 = li\n",
    "\n",
    "li[0] = 5\n",
    "\n",
    "print(li)\n",
    "print(li2)\n",
    "\n",
    "#Tupel is immutable. Except this, Tupel and list are almost the same"
   ]
  },
  {
   "cell_type": "markdown",
   "metadata": {},
   "source": [
    "### 5.6 Sets"
   ]
  },
  {
   "cell_type": "code",
   "execution_count": 21,
   "metadata": {
    "tags": []
   },
   "outputs": [
    {
     "output_type": "stream",
     "name": "stdout",
     "text": "{1, 2, 3, 4, 5, 6, 9}\n{1}\n{2, 3, 4, 5, 6, 9}\n{1, 2, 3, 4, 5, 6, 7, 8, 9}\n"
    }
   ],
   "source": [
    "#remove duplicates and menbership test\n",
    "sets = {1,2,3,9,4,5,6,1,1,1,1,1}\n",
    "print(sets)\n",
    "\n",
    "#methods\n",
    "sets2 = {1,7,8}\n",
    "#intersection\n",
    "print(sets.intersection(sets2))\n",
    "#difference\n",
    "print(sets.difference(sets2))\n",
    "#Union\n",
    "print(sets.union(sets2))"
   ]
  },
  {
   "cell_type": "code",
   "execution_count": 22,
   "metadata": {},
   "outputs": [],
   "source": [
    "#!!creating empty set\n",
    "empty_list = []\n",
    "empty_list = list()\n",
    "empty_tuple = ()\n",
    "empty_tuple = tuple()\n",
    "empty_set = {} # this actually create a dictionary\n",
    "empty_set = set()"
   ]
  }
 ]
}